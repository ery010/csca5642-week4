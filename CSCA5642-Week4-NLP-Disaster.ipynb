{
 "cells": [
  {
   "cell_type": "markdown",
   "id": "fe91898c-9b1a-4fe4-92fe-718044b75909",
   "metadata": {},
   "source": [
    "# CSCA 5642 Week 4 NLP Disaster Mini-Project"
   ]
  },
  {
   "cell_type": "markdown",
   "id": "1194ff84-9a59-4cfd-898c-d2c535fb4877",
   "metadata": {},
   "source": [
    "## Problem Description\n",
    "The aim of this project is to build a deep learning model trained on text data (\"Tweets\") to determine whether the text explicitly describes a real disaster or is simply using disaster-related terms in other contexts e.g. metaphorically. Certain English terms can be used in a variety of situations, so the challenge is to distinguish between the literal use of disaster-related terms and non-literal use. The dataset is available via the [Natural Language Processing with Disaster Tweets Kaggle Competition](https://www.kaggle.com/c/nlp-getting-started/overview).\n",
    "\n",
    "This notebook contains the pipeline for data loading/processing, EDA, model training, and inference. The score for the inference results are given by the Kaggle submission score."
   ]
  },
  {
   "cell_type": "code",
   "execution_count": 1,
   "id": "eb182902-5e68-48ab-9688-94df142fd476",
   "metadata": {},
   "outputs": [],
   "source": [
    "import os\n",
    "\n",
    "import numpy as np\n",
    "import pandas as pd\n",
    "import matplotlib.pyplot as plt\n",
    "import seaborn as sns\n",
    "import re\n",
    "\n",
    "import torch\n",
    "import torch.nn as nn\n",
    "import torch.optim as optim\n",
    "from torch.utils.data import Dataset, DataLoader\n",
    "import torch.nn.functional as F\n",
    "from sklearn.model_selection import train_test_split\n",
    "\n",
    "from sklearn.feature_extraction.text import TfidfVectorizer\n",
    "from transformers import BertModel, BertTokenizer\n",
    "from torch.optim import Adam\n",
    "from torch.optim.lr_scheduler import ExponentialLR\n",
    "from torch.nn import CrossEntropyLoss\n",
    "from tqdm import tqdm\n",
    "from sklearn.metrics import accuracy_score\n",
    "from torch.nn.utils.rnn import pack_padded_sequence\n",
    "\n",
    "from nlp_dataset import NLPDataset"
   ]
  },
  {
   "cell_type": "code",
   "execution_count": 2,
   "id": "8cd946f3-7f7e-48f1-9f67-7f28c85a0114",
   "metadata": {},
   "outputs": [
    {
     "name": "stdout",
     "output_type": "stream",
     "text": [
      "Available GPU: NVIDIA GeForce RTX 3070 Ti\n"
     ]
    }
   ],
   "source": [
    "if torch.cuda.is_available():\n",
    "    print(f\"Available GPU: {torch.cuda.get_device_name()}\")\n",
    "else:\n",
    "    print(f\"No available GPU.\")"
   ]
  },
  {
   "cell_type": "markdown",
   "id": "bd8505f3-f979-4e20-a3cb-13e021588094",
   "metadata": {},
   "source": [
    "## Exploratory Data Analysis\n",
    "The dataset contains 2 main files:\n",
    "* `train.csv`: training examples containing the Tweet (`text`) and label (`target`)\n",
    "* `test.csv`: test examples for inference (unlabeled)"
   ]
  },
  {
   "cell_type": "code",
   "execution_count": 3,
   "id": "c287417c-6685-419a-8a68-1fefde7725e9",
   "metadata": {},
   "outputs": [],
   "source": [
    "train = pd.read_csv(\"data/train.csv\")\n",
    "test = pd.read_csv(\"data/test.csv\")"
   ]
  },
  {
   "cell_type": "code",
   "execution_count": 4,
   "id": "8142388f-396d-4e88-8a34-a658cbfbda08",
   "metadata": {},
   "outputs": [
    {
     "data": {
      "text/html": [
       "<div>\n",
       "<style scoped>\n",
       "    .dataframe tbody tr th:only-of-type {\n",
       "        vertical-align: middle;\n",
       "    }\n",
       "\n",
       "    .dataframe tbody tr th {\n",
       "        vertical-align: top;\n",
       "    }\n",
       "\n",
       "    .dataframe thead th {\n",
       "        text-align: right;\n",
       "    }\n",
       "</style>\n",
       "<table border=\"1\" class=\"dataframe\">\n",
       "  <thead>\n",
       "    <tr style=\"text-align: right;\">\n",
       "      <th></th>\n",
       "      <th>id</th>\n",
       "      <th>keyword</th>\n",
       "      <th>location</th>\n",
       "      <th>text</th>\n",
       "      <th>target</th>\n",
       "    </tr>\n",
       "  </thead>\n",
       "  <tbody>\n",
       "    <tr>\n",
       "      <th>0</th>\n",
       "      <td>1</td>\n",
       "      <td>NaN</td>\n",
       "      <td>NaN</td>\n",
       "      <td>Our Deeds are the Reason of this #earthquake M...</td>\n",
       "      <td>1</td>\n",
       "    </tr>\n",
       "    <tr>\n",
       "      <th>1</th>\n",
       "      <td>4</td>\n",
       "      <td>NaN</td>\n",
       "      <td>NaN</td>\n",
       "      <td>Forest fire near La Ronge Sask. Canada</td>\n",
       "      <td>1</td>\n",
       "    </tr>\n",
       "    <tr>\n",
       "      <th>2</th>\n",
       "      <td>5</td>\n",
       "      <td>NaN</td>\n",
       "      <td>NaN</td>\n",
       "      <td>All residents asked to 'shelter in place' are ...</td>\n",
       "      <td>1</td>\n",
       "    </tr>\n",
       "    <tr>\n",
       "      <th>3</th>\n",
       "      <td>6</td>\n",
       "      <td>NaN</td>\n",
       "      <td>NaN</td>\n",
       "      <td>13,000 people receive #wildfires evacuation or...</td>\n",
       "      <td>1</td>\n",
       "    </tr>\n",
       "    <tr>\n",
       "      <th>4</th>\n",
       "      <td>7</td>\n",
       "      <td>NaN</td>\n",
       "      <td>NaN</td>\n",
       "      <td>Just got sent this photo from Ruby #Alaska as ...</td>\n",
       "      <td>1</td>\n",
       "    </tr>\n",
       "  </tbody>\n",
       "</table>\n",
       "</div>"
      ],
      "text/plain": [
       "   id keyword location                                               text  \\\n",
       "0   1     NaN      NaN  Our Deeds are the Reason of this #earthquake M...   \n",
       "1   4     NaN      NaN             Forest fire near La Ronge Sask. Canada   \n",
       "2   5     NaN      NaN  All residents asked to 'shelter in place' are ...   \n",
       "3   6     NaN      NaN  13,000 people receive #wildfires evacuation or...   \n",
       "4   7     NaN      NaN  Just got sent this photo from Ruby #Alaska as ...   \n",
       "\n",
       "   target  \n",
       "0       1  \n",
       "1       1  \n",
       "2       1  \n",
       "3       1  \n",
       "4       1  "
      ]
     },
     "execution_count": 4,
     "metadata": {},
     "output_type": "execute_result"
    }
   ],
   "source": [
    "train.head()"
   ]
  },
  {
   "cell_type": "code",
   "execution_count": 5,
   "id": "899e2266-0ba1-4366-a2d9-ccd52f41c86a",
   "metadata": {},
   "outputs": [
    {
     "data": {
      "text/html": [
       "<div>\n",
       "<style scoped>\n",
       "    .dataframe tbody tr th:only-of-type {\n",
       "        vertical-align: middle;\n",
       "    }\n",
       "\n",
       "    .dataframe tbody tr th {\n",
       "        vertical-align: top;\n",
       "    }\n",
       "\n",
       "    .dataframe thead th {\n",
       "        text-align: right;\n",
       "    }\n",
       "</style>\n",
       "<table border=\"1\" class=\"dataframe\">\n",
       "  <thead>\n",
       "    <tr style=\"text-align: right;\">\n",
       "      <th></th>\n",
       "      <th>id</th>\n",
       "      <th>keyword</th>\n",
       "      <th>location</th>\n",
       "      <th>text</th>\n",
       "    </tr>\n",
       "  </thead>\n",
       "  <tbody>\n",
       "    <tr>\n",
       "      <th>0</th>\n",
       "      <td>0</td>\n",
       "      <td>NaN</td>\n",
       "      <td>NaN</td>\n",
       "      <td>Just happened a terrible car crash</td>\n",
       "    </tr>\n",
       "    <tr>\n",
       "      <th>1</th>\n",
       "      <td>2</td>\n",
       "      <td>NaN</td>\n",
       "      <td>NaN</td>\n",
       "      <td>Heard about #earthquake is different cities, s...</td>\n",
       "    </tr>\n",
       "    <tr>\n",
       "      <th>2</th>\n",
       "      <td>3</td>\n",
       "      <td>NaN</td>\n",
       "      <td>NaN</td>\n",
       "      <td>there is a forest fire at spot pond, geese are...</td>\n",
       "    </tr>\n",
       "    <tr>\n",
       "      <th>3</th>\n",
       "      <td>9</td>\n",
       "      <td>NaN</td>\n",
       "      <td>NaN</td>\n",
       "      <td>Apocalypse lighting. #Spokane #wildfires</td>\n",
       "    </tr>\n",
       "    <tr>\n",
       "      <th>4</th>\n",
       "      <td>11</td>\n",
       "      <td>NaN</td>\n",
       "      <td>NaN</td>\n",
       "      <td>Typhoon Soudelor kills 28 in China and Taiwan</td>\n",
       "    </tr>\n",
       "  </tbody>\n",
       "</table>\n",
       "</div>"
      ],
      "text/plain": [
       "   id keyword location                                               text\n",
       "0   0     NaN      NaN                 Just happened a terrible car crash\n",
       "1   2     NaN      NaN  Heard about #earthquake is different cities, s...\n",
       "2   3     NaN      NaN  there is a forest fire at spot pond, geese are...\n",
       "3   9     NaN      NaN           Apocalypse lighting. #Spokane #wildfires\n",
       "4  11     NaN      NaN      Typhoon Soudelor kills 28 in China and Taiwan"
      ]
     },
     "execution_count": 5,
     "metadata": {},
     "output_type": "execute_result"
    }
   ],
   "source": [
    "test.head()"
   ]
  },
  {
   "cell_type": "markdown",
   "id": "7628ad24-dc55-40f7-81dc-38c7d9565b94",
   "metadata": {},
   "source": [
    "The labels in the `train` set are given by the column `target`, where:\n",
    "* `1`: real disaster\n",
    "* `0`: not real disaster"
   ]
  },
  {
   "cell_type": "markdown",
   "id": "f75d986a-b6e3-48f8-a1fd-49de8fe94bf1",
   "metadata": {},
   "source": [
    "### Class Distribution"
   ]
  },
  {
   "cell_type": "code",
   "execution_count": 6,
   "id": "18acba03-d4de-43a0-8c1c-b830aa6354fc",
   "metadata": {},
   "outputs": [
    {
     "data": {
      "image/png": "[encoded data removed]",
      "text/plain": [
       "<Figure size 600x400 with 1 Axes>"
      ]
     },
     "metadata": {},
     "output_type": "display_data"
    }
   ],
   "source": [
    "plt.figure(figsize=(6,4))\n",
    "sns.countplot(data=train, x='target')\n",
    "plt.title('Distribution of Disaster and Non-Disaster Tweets')\n",
    "plt.xlabel('Label')\n",
    "plt.ylabel('Count')\n",
    "plt.grid(axis='y', linestyle='--', alpha=0.7)\n",
    "plt.show()"
   ]
  },
  {
   "cell_type": "markdown",
   "id": "92bacd21-2b77-4e63-83c8-daf08331c25d",
   "metadata": {},
   "source": [
    "The distribution of Tweet types is skewed towards non-disaster Tweets, though relatively close."
   ]
  },
  {
   "cell_type": "markdown",
   "id": "5a5f54ac-896e-4e32-abcf-038419af40a4",
   "metadata": {},
   "source": [
    "### Text statistics"
   ]
  },
  {
   "cell_type": "markdown",
   "id": "7f600160-92d6-49df-9831-fda4dd76049e",
   "metadata": {},
   "source": [
    "**Most common words using TD-IDF**\n",
    "\n",
    "We will use `Term Frequency-Inverse Document Frequency (TF-IDF)` to determine the most common words in the text, adjusted for common English terms that do not necessarily provide context e.g. `the`, `to`, `and`."
   ]
  },
  {
   "cell_type": "code",
   "execution_count": 7,
   "id": "3f1fdd80-ff22-4cec-af28-3a35c2f4562f",
   "metadata": {},
   "outputs": [
    {
     "name": "stdout",
     "output_type": "stream",
     "text": [
      "Top 10 Most Common Words\n"
     ]
    },
    {
     "data": {
      "text/html": [
       "<div>\n",
       "<style scoped>\n",
       "    .dataframe tbody tr th:only-of-type {\n",
       "        vertical-align: middle;\n",
       "    }\n",
       "\n",
       "    .dataframe tbody tr th {\n",
       "        vertical-align: top;\n",
       "    }\n",
       "\n",
       "    .dataframe thead th {\n",
       "        text-align: right;\n",
       "    }\n",
       "</style>\n",
       "<table border=\"1\" class=\"dataframe\">\n",
       "  <thead>\n",
       "    <tr style=\"text-align: right;\">\n",
       "      <th></th>\n",
       "      <th>Token</th>\n",
       "      <th>Score</th>\n",
       "    </tr>\n",
       "  </thead>\n",
       "  <tbody>\n",
       "    <tr>\n",
       "      <th>9192</th>\n",
       "      <td>http</td>\n",
       "      <td>313.289011</td>\n",
       "    </tr>\n",
       "    <tr>\n",
       "      <th>9193</th>\n",
       "      <td>https</td>\n",
       "      <td>74.062672</td>\n",
       "    </tr>\n",
       "    <tr>\n",
       "      <th>11323</th>\n",
       "      <td>like</td>\n",
       "      <td>67.888804</td>\n",
       "    </tr>\n",
       "    <tr>\n",
       "      <th>10427</th>\n",
       "      <td>just</td>\n",
       "      <td>63.006080</td>\n",
       "    </tr>\n",
       "    <tr>\n",
       "      <th>1939</th>\n",
       "      <td>amp</td>\n",
       "      <td>55.128828</td>\n",
       "    </tr>\n",
       "    <tr>\n",
       "      <th>21307</th>\n",
       "      <td>û_</td>\n",
       "      <td>51.044426</td>\n",
       "    </tr>\n",
       "    <tr>\n",
       "      <th>5970</th>\n",
       "      <td>don</td>\n",
       "      <td>42.351847</td>\n",
       "    </tr>\n",
       "    <tr>\n",
       "      <th>13036</th>\n",
       "      <td>new</td>\n",
       "      <td>41.541058</td>\n",
       "    </tr>\n",
       "    <tr>\n",
       "      <th>14216</th>\n",
       "      <td>people</td>\n",
       "      <td>40.901743</td>\n",
       "    </tr>\n",
       "    <tr>\n",
       "      <th>13050</th>\n",
       "      <td>news</td>\n",
       "      <td>37.697347</td>\n",
       "    </tr>\n",
       "  </tbody>\n",
       "</table>\n",
       "</div>"
      ],
      "text/plain": [
       "        Token       Score\n",
       "9192     http  313.289011\n",
       "9193    https   74.062672\n",
       "11323    like   67.888804\n",
       "10427    just   63.006080\n",
       "1939      amp   55.128828\n",
       "21307      û_   51.044426\n",
       "5970      don   42.351847\n",
       "13036     new   41.541058\n",
       "14216  people   40.901743\n",
       "13050    news   37.697347"
      ]
     },
     "execution_count": 7,
     "metadata": {},
     "output_type": "execute_result"
    }
   ],
   "source": [
    "vectorizer = TfidfVectorizer(stop_words=\"english\")\n",
    "tfidf = vectorizer.fit_transform(train[\"text\"])\n",
    "\n",
    "train_tfidf = vectorizer.transform(train[\"text\"])\n",
    "\n",
    "scores = np.sum(train_tfidf.toarray(), axis=0)\n",
    "tfidf_df = pd.DataFrame({\"Token\": vectorizer.get_feature_names_out(),\n",
    "                         \"Score\": scores})\n",
    "\n",
    "print(\"Top 10 Most Common Words\")\n",
    "tfidf_df.sort_values(by=\"Score\", ascending=False).head(10)"
   ]
  },
  {
   "cell_type": "markdown",
   "id": "71cf63a7-89dc-4a10-a327-fb85f1e245d0",
   "metadata": {},
   "source": [
    "The most common terms (`Token`) are `http` and `https`, which is likely due to link sharing / retweets, which generally contain text starting with `http`. It may be useful to look at the most common words among the two categories of tweets."
   ]
  },
  {
   "cell_type": "code",
   "execution_count": 8,
   "id": "c747515e-d5ba-4c4d-8e58-c15e9f05b654",
   "metadata": {},
   "outputs": [],
   "source": [
    "disaster_train = train[train[\"target\"] == 1]\n",
    "non_disaster_train = train[train[\"target\"] == 0]\n",
    "\n",
    "disaster_tfidf = vectorizer.transform(disaster_train[\"text\"])\n",
    "non_disaster_tfidf = vectorizer.transform(non_disaster_train[\"text\"])"
   ]
  },
  {
   "cell_type": "code",
   "execution_count": 9,
   "id": "30c6f39b-df0f-4662-a2aa-df40be956bcd",
   "metadata": {},
   "outputs": [
    {
     "name": "stdout",
     "output_type": "stream",
     "text": [
      "Top 10 Most Common Words in Disaster Tweets\n"
     ]
    },
    {
     "data": {
      "text/html": [
       "<div>\n",
       "<style scoped>\n",
       "    .dataframe tbody tr th:only-of-type {\n",
       "        vertical-align: middle;\n",
       "    }\n",
       "\n",
       "    .dataframe tbody tr th {\n",
       "        vertical-align: top;\n",
       "    }\n",
       "\n",
       "    .dataframe thead th {\n",
       "        text-align: right;\n",
       "    }\n",
       "</style>\n",
       "<table border=\"1\" class=\"dataframe\">\n",
       "  <thead>\n",
       "    <tr style=\"text-align: right;\">\n",
       "      <th></th>\n",
       "      <th>Token</th>\n",
       "      <th>Score</th>\n",
       "    </tr>\n",
       "  </thead>\n",
       "  <tbody>\n",
       "    <tr>\n",
       "      <th>9192</th>\n",
       "      <td>http</td>\n",
       "      <td>174.446192</td>\n",
       "    </tr>\n",
       "    <tr>\n",
       "      <th>13050</th>\n",
       "      <td>news</td>\n",
       "      <td>27.278950</td>\n",
       "    </tr>\n",
       "    <tr>\n",
       "      <th>3746</th>\n",
       "      <td>california</td>\n",
       "      <td>26.357289</td>\n",
       "    </tr>\n",
       "    <tr>\n",
       "      <th>21307</th>\n",
       "      <td>û_</td>\n",
       "      <td>25.296165</td>\n",
       "    </tr>\n",
       "    <tr>\n",
       "      <th>5779</th>\n",
       "      <td>disaster</td>\n",
       "      <td>25.245636</td>\n",
       "    </tr>\n",
       "    <tr>\n",
       "      <th>17896</th>\n",
       "      <td>suicide</td>\n",
       "      <td>23.930097</td>\n",
       "    </tr>\n",
       "    <tr>\n",
       "      <th>9193</th>\n",
       "      <td>https</td>\n",
       "      <td>23.020113</td>\n",
       "    </tr>\n",
       "    <tr>\n",
       "      <th>8969</th>\n",
       "      <td>hiroshima</td>\n",
       "      <td>22.333531</td>\n",
       "    </tr>\n",
       "    <tr>\n",
       "      <th>14557</th>\n",
       "      <td>police</td>\n",
       "      <td>21.008892</td>\n",
       "    </tr>\n",
       "    <tr>\n",
       "      <th>10706</th>\n",
       "      <td>killed</td>\n",
       "      <td>20.679084</td>\n",
       "    </tr>\n",
       "  </tbody>\n",
       "</table>\n",
       "</div>"
      ],
      "text/plain": [
       "            Token       Score\n",
       "9192         http  174.446192\n",
       "13050        news   27.278950\n",
       "3746   california   26.357289\n",
       "21307          û_   25.296165\n",
       "5779     disaster   25.245636\n",
       "17896     suicide   23.930097\n",
       "9193        https   23.020113\n",
       "8969    hiroshima   22.333531\n",
       "14557      police   21.008892\n",
       "10706      killed   20.679084"
      ]
     },
     "execution_count": 9,
     "metadata": {},
     "output_type": "execute_result"
    }
   ],
   "source": [
    "disaster_scores = np.sum(disaster_tfidf.toarray(), axis=0)\n",
    "disaster_tfidf_df = pd.DataFrame({\"Token\": vectorizer.get_feature_names_out(),\n",
    "                         \"Score\": disaster_scores})\n",
    "\n",
    "print(\"Top 10 Most Common Words in Disaster Tweets\")\n",
    "disaster_tfidf_df.sort_values(by=\"Score\", ascending=False).head(10)"
   ]
  },
  {
   "cell_type": "code",
   "execution_count": 10,
   "id": "ba8c4ec5-778d-4e83-93b7-35e6d750ce53",
   "metadata": {},
   "outputs": [
    {
     "name": "stdout",
     "output_type": "stream",
     "text": [
      "Top 10 Most Common Words in Non-Disaster Tweets\n"
     ]
    },
    {
     "data": {
      "text/html": [
       "<div>\n",
       "<style scoped>\n",
       "    .dataframe tbody tr th:only-of-type {\n",
       "        vertical-align: middle;\n",
       "    }\n",
       "\n",
       "    .dataframe tbody tr th {\n",
       "        vertical-align: top;\n",
       "    }\n",
       "\n",
       "    .dataframe thead th {\n",
       "        text-align: right;\n",
       "    }\n",
       "</style>\n",
       "<table border=\"1\" class=\"dataframe\">\n",
       "  <thead>\n",
       "    <tr style=\"text-align: right;\">\n",
       "      <th></th>\n",
       "      <th>Token</th>\n",
       "      <th>Score</th>\n",
       "    </tr>\n",
       "  </thead>\n",
       "  <tbody>\n",
       "    <tr>\n",
       "      <th>9192</th>\n",
       "      <td>http</td>\n",
       "      <td>138.842819</td>\n",
       "    </tr>\n",
       "    <tr>\n",
       "      <th>9193</th>\n",
       "      <td>https</td>\n",
       "      <td>51.042559</td>\n",
       "    </tr>\n",
       "    <tr>\n",
       "      <th>11323</th>\n",
       "      <td>like</td>\n",
       "      <td>49.633020</td>\n",
       "    </tr>\n",
       "    <tr>\n",
       "      <th>10427</th>\n",
       "      <td>just</td>\n",
       "      <td>46.904227</td>\n",
       "    </tr>\n",
       "    <tr>\n",
       "      <th>1939</th>\n",
       "      <td>amp</td>\n",
       "      <td>34.627777</td>\n",
       "    </tr>\n",
       "    <tr>\n",
       "      <th>5970</th>\n",
       "      <td>don</td>\n",
       "      <td>31.487495</td>\n",
       "    </tr>\n",
       "    <tr>\n",
       "      <th>13036</th>\n",
       "      <td>new</td>\n",
       "      <td>31.212716</td>\n",
       "    </tr>\n",
       "    <tr>\n",
       "      <th>21307</th>\n",
       "      <td>û_</td>\n",
       "      <td>25.748262</td>\n",
       "    </tr>\n",
       "    <tr>\n",
       "      <th>3232</th>\n",
       "      <td>body</td>\n",
       "      <td>25.316395</td>\n",
       "    </tr>\n",
       "    <tr>\n",
       "      <th>11570</th>\n",
       "      <td>love</td>\n",
       "      <td>23.983045</td>\n",
       "    </tr>\n",
       "  </tbody>\n",
       "</table>\n",
       "</div>"
      ],
      "text/plain": [
       "       Token       Score\n",
       "9192    http  138.842819\n",
       "9193   https   51.042559\n",
       "11323   like   49.633020\n",
       "10427   just   46.904227\n",
       "1939     amp   34.627777\n",
       "5970     don   31.487495\n",
       "13036    new   31.212716\n",
       "21307     û_   25.748262\n",
       "3232    body   25.316395\n",
       "11570   love   23.983045"
      ]
     },
     "execution_count": 10,
     "metadata": {},
     "output_type": "execute_result"
    }
   ],
   "source": [
    "non_disaster_scores = np.sum(non_disaster_tfidf.toarray(), axis=0)\n",
    "non_disaster_tfidf_df = pd.DataFrame({\"Token\": vectorizer.get_feature_names_out(),\n",
    "                         \"Score\": non_disaster_scores})\n",
    "\n",
    "print(\"Top 10 Most Common Words in Non-Disaster Tweets\")\n",
    "non_disaster_tfidf_df.sort_values(by=\"Score\", ascending=False).head(10)"
   ]
  },
  {
   "cell_type": "markdown",
   "id": "067ba8fe-a03f-4c6f-b320-1ee714fc2659",
   "metadata": {},
   "source": [
    "Ignoring terms like `http` or `https`, common disaster-related terms do appear frequent in true disaster tweets. Interestingly, `California` is a top word in disaster tweets. This is possibly due to California having the most [wildfires](https://www.iii.org/fact-statistic/facts-statistics-wildfires#:~:text=According%20to%20the%20National%20Interagency,most%20destructive%2C%20and%20deadliest%20wildfires.) out of every state in the United States, and wildfires typically fall under the disaster category."
   ]
  },
  {
   "cell_type": "markdown",
   "id": "b5cc0bf6-78f8-45d0-92ae-7da3517a0951",
   "metadata": {},
   "source": [
    "## Data Cleaning"
   ]
  },
  {
   "cell_type": "markdown",
   "id": "8561e55a-6393-4fd8-8716-c922e3b96f2c",
   "metadata": {},
   "source": [
    "### Remove URLs/special characters, tokenize text"
   ]
  },
  {
   "cell_type": "code",
   "execution_count": 11,
   "id": "0d45b96a-daab-4526-b3b8-b887ae7cfb39",
   "metadata": {},
   "outputs": [],
   "source": [
    "def preprocess(text):\n",
    "    text = text.lower()\n",
    "    text = re.sub(r\"http\\S+\", \"\", text)\n",
    "    text = re.sub(r\"[^a-zA-Z0-9\\s]\", \"\", text) \n",
    "    text = re.sub(r\"\\s+\", \" \", text).strip()\n",
    "    return text"
   ]
  },
  {
   "cell_type": "markdown",
   "id": "df3f640b-958e-43c7-b24f-d77255e99225",
   "metadata": {},
   "source": [
    "### Tokenizer\n",
    "We will load a pre-built tokenizer from `BERT` (Bidirectional Encoder Representations from Transformers), a pre-trained language model built on the transformer architecture (introduced in the paper [Attention is All You Need (2017)](https://arxiv.org/abs/1706.03762). Pre-trained models can be loaded from the `transformers` library. For this model, we will use the `bert-base-uncased` model."
   ]
  },
  {
   "cell_type": "code",
   "execution_count": 12,
   "id": "4a0c6f23-14f5-4571-84e1-260da2c2e0c5",
   "metadata": {},
   "outputs": [],
   "source": [
    "def get_tokenizer(bert_model):\n",
    "    return BertTokenizer.from_pretrained(bert_model)\n",
    "\n",
    "bert_tokenizer = get_tokenizer(\"bert-base-uncased\")"
   ]
  },
  {
   "cell_type": "markdown",
   "id": "2f6fa610-56eb-4e10-ac4a-3c51a61718b8",
   "metadata": {},
   "source": [
    "We will write a custom `torch` dataset, which will have a `train` or `test` mode. For training, we will need to include the labels. For inference, we will need to format the test set (which has no labels) into the same dataset format. The `Dataset` class will process the tokens, and since the inputs in each batch need to be the same length, we will pad each sequence of tokens to a max length (or truncate if the sequence length exceeds the preset max length). `BERT` specifically can handle a max length of 512, but this is not necessarily an appropriate choice, since most sequences are not this length. From looking at NLP resources, specifically models related to Tweets, a common choice was `max_length = 120`. We will also use `attention_mask` for the model to distinguish between padded and true tokens.\n",
    "\n",
    "A note about the `Dataset` class is using a custom class may cause an `AttributeError` if using multiprocessing while run on a notebook. The workaround for this is to save the code (and any dependencies) into a separate Python file and importing the function from the file."
   ]
  },
  {
   "cell_type": "code",
   "execution_count": 13,
   "id": "360285fe-0b61-41c7-a32a-d985df975b84",
   "metadata": {},
   "outputs": [],
   "source": [
    "class NLPDataset(Dataset):\n",
    "    def __init__(self, tokenizer, texts, labels=None, max_len=120, mode=\"train\"):\n",
    "        self.tokenizer = tokenizer\n",
    "        self.texts = texts\n",
    "        self.labels = labels\n",
    "        self.max_len = max_len\n",
    "        self.mode = mode\n",
    "\n",
    "    def get_tokens(self, text, max_len):\n",
    "        text = preprocess(text)\n",
    "        tokens = self.tokenizer.encode(text, add_special_tokens=True, truncation=True, max_length=max_len)\n",
    "        pad_length = max_len - len(tokens)\n",
    "        if pad_length > 0:\n",
    "            tokens += [self.tokenizer.pad_token_id] * pad_length\n",
    "        mask = [1 if idx < len(tokens) - pad_length else 0 for idx in range(len(tokens))]\n",
    "        return tokens, mask\n",
    "\n",
    "    def __len__(self):\n",
    "        return len(self.texts)\n",
    "        \n",
    "    def __getitem__(self, idx):\n",
    "        tokens, mask = self.get_tokens(self.texts[idx], self.max_len)\n",
    "        input_ids = torch.tensor(tokens, dtype=torch.long)\n",
    "        attention_mask = torch.tensor(mask, dtype=torch.long)\n",
    "        seq_len = (attention_mask == 1).sum().item()\n",
    "\n",
    "        if self.mode == \"train\":\n",
    "            label = self.labels[idx]\n",
    "            return [input_ids, attention_mask, seq_len], torch.tensor(label, dtype=torch.float)\n",
    "\n",
    "        return [input_ids, attention_mask, seq_len]"
   ]
  },
  {
   "cell_type": "markdown",
   "id": "92c97747-e0f0-48a7-84ce-b003874738bf",
   "metadata": {},
   "source": [
    "## Model Development"
   ]
  },
  {
   "cell_type": "markdown",
   "id": "059c0ca4-e25a-402c-8c6a-088eaa910e41",
   "metadata": {},
   "source": [
    "### Architecture\n",
    "Our model will be built on the `torch` framework calling a pretrained `BERT` model. The `NLPModel` will include an `LSTM` layer (Long Short-Term Memory Networks), which will be used to capture sentiment information on the sequences of tokens (for our case, sentiment related to disasters)."
   ]
  },
  {
   "cell_type": "code",
   "execution_count": 14,
   "id": "9d226230-6bc9-44c9-87f8-bce0508ba58a",
   "metadata": {},
   "outputs": [],
   "source": [
    "class NLPModel(nn.Module):\n",
    "    def __init__(self, model_name):\n",
    "        super().__init__()\n",
    "        self.bert = BertModel.from_pretrained(model_name)\n",
    "        hidden_size = self.bert.config.hidden_size\n",
    "        self.lstm = nn.LSTM(hidden_size, hidden_size, bidirectional=True, batch_first=True)\n",
    "        self.classifier = nn.Linear(hidden_size * 2, 1)\n",
    "\n",
    "    def forward(self, inputs):\n",
    "        input_ids, attention_mask, lengths = inputs\n",
    "        outputs = self.bert(input_ids=input_ids, attention_mask=attention_mask)\n",
    "        encoded_layers = outputs.last_hidden_state\n",
    "        \n",
    "        packed = pack_padded_sequence(encoded_layers, lengths.cpu(), batch_first=True, enforce_sorted=False)\n",
    "        _, (hidden, _) = self.lstm(packed)\n",
    "\n",
    "        output_hidden = torch.cat((hidden[0], hidden[1]), dim=1)\n",
    "        output_hidden = F.dropout(output_hidden, 0.2)\n",
    "        output = self.classifier(output_hidden)\n",
    "        return torch.sigmoid(output)"
   ]
  },
  {
   "cell_type": "markdown",
   "id": "50488a4a-892c-438f-8567-2b9b0391d478",
   "metadata": {},
   "source": [
    "### Training"
   ]
  },
  {
   "cell_type": "code",
   "execution_count": 15,
   "id": "d0e240e1-ae74-4d98-b38c-363f245943e5",
   "metadata": {},
   "outputs": [],
   "source": [
    "def load_data(tokenizer, train_df, batch_size=32, max_len=120):\n",
    "    train_texts, val_texts, train_labels, val_labels = train_test_split(\n",
    "        train_df[\"text\"].values, train_df[\"target\"].values,\n",
    "        test_size=0.2, random_state=42, stratify=train_df[\"target\"].values\n",
    "    )\n",
    "    \n",
    "    train_dataset = NLPDataset(tokenizer, train_texts, train_labels, max_len, mode=\"train\")\n",
    "    val_dataset = NLPDataset(tokenizer, val_texts, val_labels, max_len, mode=\"train\")\n",
    "\n",
    "    train_loader = DataLoader(train_dataset, batch_size=batch_size, shuffle=True)\n",
    "    val_loader = DataLoader(val_dataset, batch_size=batch_size, shuffle=False)\n",
    "    \n",
    "    return train_loader, val_loader"
   ]
  },
  {
   "cell_type": "code",
   "execution_count": 16,
   "id": "8e87e630-b205-40ad-b09a-aa8c0a91a7f3",
   "metadata": {},
   "outputs": [],
   "source": [
    "def run_training(\n",
    "    model_name=\"bert-base-uncased\", train_df=None, batch_size=32, epochs=5, lr=2e-5, max_len=120):\n",
    "    tokenizer = get_tokenizer(model_name)\n",
    "    train_loader, val_loader = load_data(tokenizer, train_df, batch_size=batch_size, max_len=max_len)\n",
    "\n",
    "    model = NLPModel(model_name)\n",
    "    device = torch.device(\"cuda\" if torch.cuda.is_available() else \"cpu\")\n",
    "    model = model.to(device)\n",
    "\n",
    "    optimizer = Adam(model.parameters(), lr=lr)\n",
    "    scheduler = ExponentialLR(optimizer, gamma=0.90)\n",
    "    criterion = nn.BCELoss()\n",
    "\n",
    "    train_losses = []\n",
    "    val_losses = []\n",
    "    train_accuracies = []\n",
    "    val_accuracies = []\n",
    "\n",
    "    for epoch in range(epochs):\n",
    "        model.train()\n",
    "        train_loss = 0\n",
    "        train_preds = []\n",
    "        train_labels = []\n",
    "\n",
    "        pbar = tqdm(train_loader, desc=f\"Epoch {epoch+1} [Training]\")\n",
    "\n",
    "        for batch in pbar:\n",
    "            (input_ids, attention_mask, seq_lens), labels = batch\n",
    "            input_ids = input_ids.to(device)\n",
    "            attention_mask = attention_mask.to(device)\n",
    "            seq_lens = seq_lens.to(device)\n",
    "            labels = labels.to(device)\n",
    "\n",
    "            optimizer.zero_grad()\n",
    "            outputs = model([input_ids, attention_mask, seq_lens]).squeeze(1)\n",
    "            loss = criterion(outputs, labels)\n",
    "            loss.backward()\n",
    "            optimizer.step()\n",
    "\n",
    "            preds = (outputs > 0.5).long()\n",
    "            train_preds.extend(preds.cpu().numpy())\n",
    "            train_labels.extend(labels.cpu().numpy())\n",
    "            train_loss += loss.item()\n",
    "\n",
    "            del loss, outputs\n",
    "            torch.cuda.empty_cache()\n",
    "\n",
    "        train_acc = (torch.tensor(train_preds) == torch.tensor(train_labels).long()).float().mean().item()\n",
    "        train_losses.append(train_loss / len(train_loader))\n",
    "        train_accuracies.append(train_acc)\n",
    "\n",
    "        model.eval()\n",
    "        val_loss = 0\n",
    "        val_preds = []\n",
    "        val_labels = []\n",
    "\n",
    "        with torch.no_grad():\n",
    "            for batch in tqdm(val_loader, desc=f\"Epoch {epoch+1} [Validation]\"):\n",
    "                (input_ids, attention_mask, seq_lens), labels = batch\n",
    "                input_ids = input_ids.to(device)\n",
    "                attention_mask = attention_mask.to(device)\n",
    "                seq_lens = seq_lens.to(device)\n",
    "                labels = labels.to(device)\n",
    "\n",
    "                outputs = model([input_ids, attention_mask, seq_lens]).squeeze(1)\n",
    "                loss = criterion(outputs, labels)\n",
    "\n",
    "                preds = (outputs > 0.5).long()\n",
    "                val_preds.extend(preds.cpu().numpy())\n",
    "                val_labels_.extend(labels.cpu().numpy())\n",
    "                val_loss += loss.item()\n",
    "\n",
    "                del loss, outputs\n",
    "                torch.cuda.empty_cache()\n",
    "\n",
    "        val_acc = (torch.tensor(val_preds) == torch.tensor(val_labels).long()).float().mean().item()\n",
    "        val_losses.append(val_loss / len(val_loader))\n",
    "        val_accuracies.append(val_acc)\n",
    "\n",
    "        scheduler.step()\n",
    "\n",
    "        print(f\"Epoch {epoch+1} Results:\")\n",
    "        print(f\"Train Loss: {train_losses[-1]:.4f}, Train Acc: {train_accuracies[-1]:.4f}\")\n",
    "        print(f\"Val Loss:   {val_losses[-1]:.4f}, Val Acc:   {val_accuracies[-1]:.4f}\")\n",
    "        print(\"-\" * 50)\n",
    "\n",
    "    return model, train_losses, train_accuracies, val_losses, val_accuracies"
   ]
  },
  {
   "cell_type": "code",
   "execution_count": 17,
   "id": "f872f3d9-6720-430b-8657-77f9b2a825ad",
   "metadata": {},
   "outputs": [
    {
     "name": "stderr",
     "output_type": "stream",
     "text": [
      "Epoch 1 [Training]: 100%|██████████████████████████████████████████████████████████████| 96/96 [00:51<00:00,  1.85it/s]\n",
      "Epoch 1 [Validation]: 100%|████████████████████████████████████████████████████████████| 24/24 [00:04<00:00,  5.53it/s]\n"
     ]
    },
    {
     "name": "stdout",
     "output_type": "stream",
     "text": [
      "Epoch 1 Results:\n",
      "Train Loss: 0.4754, Train Acc: 0.7768\n",
      "Val Loss:   0.3689, Val Acc:   0.8496\n",
      "--------------------------------------------------\n"
     ]
    },
    {
     "name": "stderr",
     "output_type": "stream",
     "text": [
      "Epoch 2 [Training]: 100%|██████████████████████████████████████████████████████████████| 96/96 [00:43<00:00,  2.22it/s]\n",
      "Epoch 2 [Validation]: 100%|████████████████████████████████████████████████████████████| 24/24 [00:03<00:00,  6.97it/s]\n"
     ]
    },
    {
     "name": "stdout",
     "output_type": "stream",
     "text": [
      "Epoch 2 Results:\n",
      "Train Loss: 0.3390, Train Acc: 0.8672\n",
      "Val Loss:   0.3769, Val Acc:   0.8523\n",
      "--------------------------------------------------\n"
     ]
    },
    {
     "name": "stderr",
     "output_type": "stream",
     "text": [
      "Epoch 3 [Training]: 100%|██████████████████████████████████████████████████████████████| 96/96 [00:41<00:00,  2.30it/s]\n",
      "Epoch 3 [Validation]: 100%|████████████████████████████████████████████████████████████| 24/24 [00:03<00:00,  6.98it/s]\n"
     ]
    },
    {
     "name": "stdout",
     "output_type": "stream",
     "text": [
      "Epoch 3 Results:\n",
      "Train Loss: 0.2638, Train Acc: 0.9021\n",
      "Val Loss:   0.4266, Val Acc:   0.8385\n",
      "--------------------------------------------------\n"
     ]
    },
    {
     "name": "stderr",
     "output_type": "stream",
     "text": [
      "Epoch 4 [Training]: 100%|██████████████████████████████████████████████████████████████| 96/96 [00:50<00:00,  1.91it/s]\n",
      "Epoch 4 [Validation]: 100%|████████████████████████████████████████████████████████████| 24/24 [00:03<00:00,  6.52it/s]\n"
     ]
    },
    {
     "name": "stdout",
     "output_type": "stream",
     "text": [
      "Epoch 4 Results:\n",
      "Train Loss: 0.2056, Train Acc: 0.9258\n",
      "Val Loss:   0.4327, Val Acc:   0.8431\n",
      "--------------------------------------------------\n"
     ]
    },
    {
     "name": "stderr",
     "output_type": "stream",
     "text": [
      "Epoch 5 [Training]: 100%|██████████████████████████████████████████████████████████████| 96/96 [00:48<00:00,  1.96it/s]\n",
      "Epoch 5 [Validation]: 100%|████████████████████████████████████████████████████████████| 24/24 [00:03<00:00,  7.00it/s]\n"
     ]
    },
    {
     "name": "stdout",
     "output_type": "stream",
     "text": [
      "Epoch 5 Results:\n",
      "Train Loss: 0.1419, Train Acc: 0.9479\n",
      "Val Loss:   0.4963, Val Acc:   0.8345\n",
      "--------------------------------------------------\n"
     ]
    },
    {
     "name": "stderr",
     "output_type": "stream",
     "text": [
      "Epoch 6 [Training]: 100%|██████████████████████████████████████████████████████████████| 96/96 [00:47<00:00,  2.03it/s]\n",
      "Epoch 6 [Validation]: 100%|████████████████████████████████████████████████████████████| 24/24 [00:03<00:00,  6.99it/s]\n"
     ]
    },
    {
     "name": "stdout",
     "output_type": "stream",
     "text": [
      "Epoch 6 Results:\n",
      "Train Loss: 0.1081, Train Acc: 0.9616\n",
      "Val Loss:   0.5640, Val Acc:   0.8319\n",
      "--------------------------------------------------\n"
     ]
    },
    {
     "name": "stderr",
     "output_type": "stream",
     "text": [
      "Epoch 7 [Training]: 100%|██████████████████████████████████████████████████████████████| 96/96 [00:40<00:00,  2.40it/s]\n",
      "Epoch 7 [Validation]: 100%|████████████████████████████████████████████████████████████| 24/24 [00:03<00:00,  6.97it/s]\n"
     ]
    },
    {
     "name": "stdout",
     "output_type": "stream",
     "text": [
      "Epoch 7 Results:\n",
      "Train Loss: 0.0821, Train Acc: 0.9686\n",
      "Val Loss:   0.5996, Val Acc:   0.8168\n",
      "--------------------------------------------------\n"
     ]
    },
    {
     "name": "stderr",
     "output_type": "stream",
     "text": [
      "Epoch 8 [Training]: 100%|██████████████████████████████████████████████████████████████| 96/96 [00:39<00:00,  2.42it/s]\n",
      "Epoch 8 [Validation]: 100%|████████████████████████████████████████████████████████████| 24/24 [00:03<00:00,  6.99it/s]\n"
     ]
    },
    {
     "name": "stdout",
     "output_type": "stream",
     "text": [
      "Epoch 8 Results:\n",
      "Train Loss: 0.0640, Train Acc: 0.9780\n",
      "Val Loss:   0.6476, Val Acc:   0.8201\n",
      "--------------------------------------------------\n"
     ]
    },
    {
     "name": "stderr",
     "output_type": "stream",
     "text": [
      "Epoch 9 [Training]: 100%|██████████████████████████████████████████████████████████████| 96/96 [00:46<00:00,  2.06it/s]\n",
      "Epoch 9 [Validation]: 100%|████████████████████████████████████████████████████████████| 24/24 [00:03<00:00,  6.96it/s]\n"
     ]
    },
    {
     "name": "stdout",
     "output_type": "stream",
     "text": [
      "Epoch 9 Results:\n",
      "Train Loss: 0.0548, Train Acc: 0.9810\n",
      "Val Loss:   0.7500, Val Acc:   0.8188\n",
      "--------------------------------------------------\n"
     ]
    },
    {
     "name": "stderr",
     "output_type": "stream",
     "text": [
      "Epoch 10 [Training]: 100%|█████████████████████████████████████████████████████████████| 96/96 [00:45<00:00,  2.12it/s]\n",
      "Epoch 10 [Validation]: 100%|███████████████████████████████████████████████████████████| 24/24 [00:03<00:00,  6.97it/s]"
     ]
    },
    {
     "name": "stdout",
     "output_type": "stream",
     "text": [
      "Epoch 10 Results:\n",
      "Train Loss: 0.0484, Train Acc: 0.9810\n",
      "Val Loss:   0.7452, Val Acc:   0.8227\n",
      "--------------------------------------------------\n"
     ]
    },
    {
     "name": "stderr",
     "output_type": "stream",
     "text": [
      "\n"
     ]
    }
   ],
   "source": [
    "model = run_training(model_name=\"bert-base-uncased\",\n",
    "                     train_df=train,\n",
    "                     batch_size=64,\n",
    "                     epochs=10,\n",
    "                     lr=2e-5,\n",
    "                     max_len=120)"
   ]
  },
  {
   "cell_type": "code",
   "execution_count": 18,
   "id": "e8094c51-4fb9-487d-b1e4-a57ba0b39506",
   "metadata": {},
   "outputs": [],
   "source": [
    "# save model\n",
    "# torch.save(model, \"models/model.pth\")\n",
    "\n",
    "torch.save(model[0].state_dict(), \"models/bert_model_weights_rev3.pth\")\n",
    "\n",
    "train_losses = model[1]\n",
    "val_losses = model[3]\n",
    "val_accuracies = model[4]\n",
    "\n",
    "metrics_df = pd.DataFrame({\n",
    "    \"Epoch\": list(range(1, len(train_losses)+1)),\n",
    "    \"Train Loss\": train_losses,\n",
    "    \"Val Loss\": val_losses,\n",
    "    \"Val Accuracy\": val_accuracies\n",
    "})\n",
    "\n",
    "metrics_df.to_csv(\"training_metrics.csv\", index=False)"
   ]
  },
  {
   "cell_type": "markdown",
   "id": "c6ba3c3e-a612-4781-a2bf-f9c2e2aeced6",
   "metadata": {},
   "source": [
    "### Inference"
   ]
  },
  {
   "cell_type": "code",
   "execution_count": 19,
   "id": "ea7fc790-5a86-4195-9479-ee675165df15",
   "metadata": {},
   "outputs": [
    {
     "name": "stderr",
     "output_type": "stream",
     "text": [
      "100%|████████████████████████████████████████████████████████████████████████████████| 102/102 [00:07<00:00, 13.42it/s]\n"
     ]
    }
   ],
   "source": [
    "test_dataset = NLPDataset(tokenizer=bert_tokenizer, texts=test[\"text\"].values, max_len=120, mode=\"test\")\n",
    "test_loader = DataLoader(test_dataset, batch_size=32, shuffle=False)\n",
    "\n",
    "device = torch.device(\"cuda\" if torch.cuda.is_available() else \"cpu\")\n",
    "model = NLPModel(model_name=\"bert-base-uncased\")\n",
    "model.load_state_dict(torch.load(\"models/bert_model_weights_rev3.pth\"))\n",
    "model = model.to(device)\n",
    "model.eval()\n",
    "\n",
    "predictions = []\n",
    "\n",
    "with torch.no_grad():\n",
    "    for batch in tqdm(test_loader):\n",
    "        input_ids, attention_mask, seq_lens = batch\n",
    "        input_ids = input_ids.to(device)\n",
    "        attention_mask = attention_mask.to(device)\n",
    "        seq_lens = seq_lens.to(device)\n",
    "\n",
    "        outputs = model([input_ids, attention_mask, seq_lens])\n",
    "        outputs = outputs.squeeze(1) \n",
    "        preds = (outputs > 0.5).long() \n",
    "        predictions.extend(preds.cpu().numpy())\n",
    "\n",
    "\n",
    "submission_df = pd.DataFrame({\n",
    "    \"id\": test[\"id\"],\n",
    "    \"target\": predictions\n",
    "})\n",
    "submission_df.to_csv(\"submission3.csv\", index=False)"
   ]
  },
  {
   "cell_type": "markdown",
   "id": "1fe6dc25-0917-405e-8856-11631683f7ba",
   "metadata": {},
   "source": [
    "### Results"
   ]
  },
  {
   "cell_type": "markdown",
   "id": "af890876-99fc-4e62-98be-0a630fe71e69",
   "metadata": {},
   "source": [
    "### Kaggle Submission Scores\n",
    "* Model 1 (`batch_size` = 32, `epochs` = 5, `lr` = 2e-5)\n",
    "  \n",
    "![Kaggle Submission](scores/score1.png)\n",
    "\n",
    "_______________________________________________________________________________________________________________________________________________________\n",
    "* Model 2 (`batch_size` = 32, `epochs` = 10, `lr` = 2e-5)\n",
    "\n",
    "![Kaggle Submission](scores/score2.png)\n",
    "_______________________________________________________________________________________________________________________________________________________\n",
    "* Model 3 (`batch_size` = 64, `epochs` = 10, `lr` = 2e-5)\n",
    "\n",
    "![Kaggle Submission](scores/score3.png)\n",
    "_______________________________________________________________________________________________________________________________________________________"
   ]
  },
  {
   "cell_type": "code",
   "execution_count": 23,
   "id": "158c1bf1-c0b2-4af4-a6d3-12a24858dc9c",
   "metadata": {},
   "outputs": [
    {
     "data": {
      "image/png": "[encoded data removed]",
      "text/plain": [
       "<Figure size 1000x500 with 1 Axes>"
      ]
     },
     "metadata": {},
     "output_type": "display_data"
    }
   ],
   "source": [
    "metrics = pd.read_csv(\"training_metrics.csv\")\n",
    "plt.figure(figsize=(10, 5))\n",
    "plt.plot(metrics['Train Loss'], label=\"BERTModel\")\n",
    "plt.xlabel(\"Epoch\")\n",
    "plt.ylabel(\"Loss\")\n",
    "plt.title(\"Train Loss\")\n",
    "plt.legend()\n",
    "plt.grid(True)\n",
    "plt.show()"
   ]
  },
  {
   "cell_type": "code",
   "execution_count": 24,
   "id": "ff34b015-e9e3-43e8-b3d1-6b8b868b3853",
   "metadata": {},
   "outputs": [
    {
     "data": {
      "image/png": "[encoded data removed]",
      "text/plain": [
       "<Figure size 1000x500 with 1 Axes>"
      ]
     },
     "metadata": {},
     "output_type": "display_data"
    }
   ],
   "source": [
    "plt.figure(figsize=(10, 5))\n",
    "plt.plot(metrics['Val Loss'], label=\"BERTModel\")\n",
    "plt.xlabel(\"Epoch\")\n",
    "plt.ylabel(\"Loss\")\n",
    "plt.title(\"Val Loss\")\n",
    "plt.legend()\n",
    "plt.grid(True)\n",
    "plt.show()"
   ]
  },
  {
   "cell_type": "code",
   "execution_count": 25,
   "id": "91bbc6a9-b8bc-4bfe-bc00-033cdf899edd",
   "metadata": {},
   "outputs": [
    {
     "data": {
      "image/png": "[encoded data removed]",
      "text/plain": [
       "<Figure size 1000x500 with 1 Axes>"
      ]
     },
     "metadata": {},
     "output_type": "display_data"
    }
   ],
   "source": [
    "plt.figure(figsize=(10, 5))\n",
    "plt.plot(metrics['Val Accuracy'], label=\"BERTModel\")\n",
    "plt.xlabel(\"Epoch\")\n",
    "plt.ylabel(\"Accuracy\")\n",
    "plt.title(\"Val Accuracy\")\n",
    "plt.legend()\n",
    "plt.grid(True)\n",
    "plt.show()"
   ]
  },
  {
   "cell_type": "markdown",
   "id": "5006f65f-0ed3-442b-9c71-bc9ee040d2d9",
   "metadata": {},
   "source": [
    "### Summary of Results\n",
    "\n",
    "|`Model Run`|`batch_size`|`epochs`|  `lr`  |`acc_score`|\n",
    "|-----------|------------|--------|--------|-----------|\n",
    "|     1     |     32     |   5    |  2e-5  |  0.82347  |\n",
    "|     2     |     32     |   10   |  2e-5  |  0.80570  |\n",
    "|     3     |     64     |   10   |  2e-5  |  0.81489  |"
   ]
  },
  {
   "cell_type": "markdown",
   "id": "a439faf4-be50-4d4b-9743-79538ec14f46",
   "metadata": {},
   "source": [
    "The highest accuracy score achieved by the model on the Kaggle submission was `0.82347`. All 3 submissions performed similarly, with the initial model slightly outperforming the other models by ~1-2%. The same model was used for all submissions, with variation in the `batch_size` and `epochs`. Comparing the first 2 submissions, increasing the number of epochs did not improve accuracy on inference. The score actually decreased, which could possibly be caused by the model overfitting on the training data. Specifically, training on higher epochs could have led to the model to memorize specific instances of the data in the weights, leading to overfitting. I attempted to mitigate this by increasing the batch size while keeping the same number of epochs. The score was still lower than the initial model's score, but it did improve over the model with increased epochs with no adjusted batch size.\n",
    "\n",
    "One thing I noticed in the Kaggle leaderboard for this specific competition was a significant number of entries hovering the same score range (~80-90%), with relatively few above 90%. From browsing the discussions, it appears that some of the higher scores are due to a data leak, meaning the submissions were made based on access to the ground truth and not actual model predictions."
   ]
  },
  {
   "cell_type": "markdown",
   "id": "bb4a6dbb-4bef-47e1-a895-7d0d827cb261",
   "metadata": {},
   "source": [
    "### Conclusion"
   ]
  },
  {
   "cell_type": "markdown",
   "id": "8c1c96e0-bd54-4d8b-9e16-6b13c662686a",
   "metadata": {},
   "source": [
    "Something I learned from this specific competition was the significance of the learning rate hyperparameter. I mostly have experience training models on image data and typically choose relatively large learning rates e.g. `1-e3`. When I worked on this NLP model, I initially had very poor training and validation results (<60% accuracy), and from doing a Google search, I found that NLP models, specifically a pre-trained `BERT` model requires much smaller learning rates to properly fine-tune the weights. The train time did noticeably increase a little over 2x, but the training and validation accuracies increased to ~80-85%."
   ]
  },
  {
   "cell_type": "markdown",
   "id": "6e8cd2d3-f47a-4a1a-84ff-f268a569b7a4",
   "metadata": {},
   "source": [
    "## References\n",
    "* https://neptune.ai/blog/how-to-code-bert-using-pytorch-tutorial\n",
    "* https://huggingface.co/docs/transformers/en/installation\n",
    "* https://pytorch.org/\n",
    "* https://pytorch.org/tutorials/beginner/basics/data_tutorial.html\n",
    "* https://huggingface.co/docs/transformers/en/model_doc/bert"
   ]
  }
 ],
 "metadata": {
  "kernelspec": {
   "display_name": "Python 3 (ipykernel)",
   "language": "python",
   "name": "python3"
  },
  "language_info": {
   "codemirror_mode": {
    "name": "ipython",
    "version": 3
   },
   "file_extension": ".py",
   "mimetype": "text/x-python",
   "name": "python",
   "nbconvert_exporter": "python",
   "pygments_lexer": "ipython3",
   "version": "3.12.4"
  }
 },
 "nbformat": 4,
 "nbformat_minor": 5
}
